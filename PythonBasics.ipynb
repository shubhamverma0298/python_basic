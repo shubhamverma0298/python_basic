{
  "nbformat": 4,
  "nbformat_minor": 0,
  "metadata": {
    "colab": {
      "provenance": []
    },
    "kernelspec": {
      "name": "python3",
      "display_name": "Python 3"
    },
    "language_info": {
      "name": "python"
    }
  },
  "cells": [
    {
      "cell_type": "markdown",
      "source": [
        "# **PYTHON BASICS ASSIGNMENT**"
      ],
      "metadata": {
        "id": "xLUMjSkOEiAC"
      }
    },
    {
      "cell_type": "markdown",
      "source": [
        "**Q 1 What is Python, and why is it popular?**\n",
        "  - Python is an open-source programming language that is free to use and distribute.\n",
        "  - Python is a versatile, high-level programming language known for its readability and ease of use.\n",
        "  - Making it popular for various applications, including web development, data science, and machine learning. Its popularity stems from its extensive libraries, large community, and ability to be used for a wide range of tasks.\n",
        "\n",
        "**Q 2 What is an interpreter in Python?**\n",
        "  - In python, an interpreter is a program that reads and executes Python code line by line, translating it into machine-readable instructions and then executing them.\n",
        "  - The Python interpreter acts as a bridge between the Python code you write and the computer's hardware. It takes your code, which is written in a human-readable format, and converts it into a form that the computer can understand and execute.\n",
        "\n",
        "**Q 3 What are pre-defined keywords in Python?**\n",
        "  - The pre-defined keywords in python are predefined reserved words with special meanings so the interpreter can understand them.\n",
        "  - for examples print(), round(), abs(), pow(), int(), float(), etc.\n",
        "\n",
        "**Q 4 Can keywords be used as variable names?**\n",
        "  - No, you cannot use keywords as variable names because they are reserved words with predefined meanings in programming languages, and using them as variable names would lead to syntax errors.\n",
        "\n",
        "**Q 5 What is mutability in Python?**\n",
        "  - In python mutability means an object's ability to be changed or modified after it's created for example lists,strings etc\n",
        "\n",
        "**Q 6 Why are lists mutable, but tuples are immutable?**\n",
        "  - Lists are mutable because lists can be changed or modified after it is created.\n",
        "  \n",
        "  for example :\n",
        "  \n",
        "  lis= [12,36,26,\"shub\"]\n",
        "\n",
        "  lis[1]=35\n",
        "\n",
        "  lis\n",
        "\n",
        "  output:\n",
        "\n",
        "  [12,35,26,'shub']\n",
        "\n",
        "  - Tuple are immutable because tuples can't be changed or modified after it is created.\n",
        "\n",
        "  for example :\n",
        "  \n",
        "  tup= (12,36,26,\"shub\")\n",
        "\n",
        "  tup[1]=35\n",
        "\n",
        "  tup\n",
        "\n",
        "  output:\n",
        "\n",
        "  TypeError: 'tuple' object does not support item assignment\n",
        "\n",
        "**Q 7 What is the difference between “==” and “is” operators in Python?**\n",
        "  - \"==\" operator is used for to check value equality whether the two variables have the same value or not.\n",
        "\n",
        "  for Example:\n",
        "\n",
        "  a=3\n",
        "  \n",
        "  b=3\n",
        "\n",
        "  a==b\n",
        "\n",
        "  output:\n",
        "\n",
        "  True\n",
        "\n",
        "  - \"is\" operator is used for to check object identity whether the two objects belong to the same memory location or not.\n",
        "\n",
        "  for Example:\n",
        "\n",
        "  a=3+6\n",
        "  \n",
        "  b=a\n",
        "\n",
        "  a is b\n",
        "\n",
        "  output:\n",
        "\n",
        "  True\n",
        "\n",
        "**Q 8 What are logical operators in Python?**\n",
        "  - In Python, operators are special symbols or keywords that perform operations on data.\n",
        "  - A logical operator is a symbol or word used to connect two or more expressions such that the value of the compound expression produced depends only on that of the original expressions and on the meaning of the operator. Common logical operators include AND, OR, and NOT.\n",
        "\n",
        "**Q 9 What is type casting in Python?**\n",
        "  - In python the type casting is a process to convert a variable data type to another data type means string data type to integer data type, integer to float etc.\n",
        "  - their are two types of type casting:\n",
        "      - Implicit\n",
        "      - Explicit\n",
        "\n",
        "**Q 10 What is the difference between implicit and explicit type casting?**\n",
        "  - In python the type casting is a process to convert a variable data type to another data type means string data type to integer data type, integer to float etc.\n",
        "  - their are two types of type casting:\n",
        "      - Implicit\n",
        "      - Explicit\n",
        "\n",
        "  - Implicit - Implicit type casting is a type casting where the python interpreter automatically convert one data type to another data type.\n",
        "  \n",
        "  For example: adding integer to float output is always a float.\n",
        "\n",
        "  a=3\n",
        "\n",
        "  b=3.6\n",
        "\n",
        "  c=a+b\n",
        "\n",
        "  print(c)\n",
        "\n",
        "  output:\n",
        "\n",
        "   6.6\n",
        "\n",
        "  - Explicit - Explicit type casting is a type casting which is done manually by the user with help of built-in functions like int(), float(), str(), etc.\n",
        "  \n",
        "  For example: converting string to integer data type.\n",
        "\n",
        "  data= int(\"12563\")\n",
        "  data\n",
        "\n",
        "  output:\n",
        "\n",
        "  12563   (#it is integer)\n",
        "\n",
        "**Q 11 What is the purpose of conditional statements in Python?**\n",
        "  - Conditional statements are the foundation of decision-making in programming. They allow you to check conditions and execute specific code blocks based on the outcome of those checks True or False.\n",
        "  - Conditional statements in Python are used to execute certain blocks of code based on specific conditions.\n",
        "  - Examples of conditional statements are if-else,if-elif-else statements.\n",
        "\n",
        "**Q 12 How does the elif statement work?**\n",
        "  - elif means else-if in python\n",
        "  - elif is used in conditional statements to check for multiple conditions. For example, if the first condition is false, it moves on to the next “elif” statement to check if that condition is true.\n",
        "  - Example: Write a Python program to implement a calculator that performs addition, subtraction, multiplication, and division based on user input?\n",
        "\n",
        "  - num1 = int(input(\"enter number one \" ))\n",
        "\n",
        "  num2 = int(input(\"enter number second \" ))\n",
        "\n",
        "  choice = input(\"chose which action u want to preform with from (Addition, Substraction,Multiplication,Division) \" )\n",
        "\n",
        "  if (choice == \"Addition\"):\n",
        "\n",
        "    add = num1+num2\n",
        "\n",
        "    print(\"Addition of two numbers are :-\", add)\n",
        "\n",
        "  elif(choice ==\"Substraction\"):\n",
        "\n",
        "    sub = num1-num2\n",
        "\n",
        "    print(\"Substraction of two numbers are :-\", sub)\n",
        "\n",
        "  elif(choice == \"Multiplication\"):\n",
        "\n",
        "    mul = num1*num2\n",
        "\n",
        "    print(\"Multiplication of two numbers are :-\", mul)\n",
        "\n",
        "  elif(choice == \"Division\"):\n",
        "\n",
        "    div = num1/num2\n",
        "\n",
        "    print(\"Division of two numbers are :-\", div)\n",
        "\n",
        "  else:\n",
        "\n",
        "    print(\"chose from the options given\")  \n",
        "\n",
        "**Q 13 What is the difference between for and while loops?**\n",
        "  - Loops are used to do action repeatedly for example: for loop, while loop,do-whiile loop etc.\n",
        "  - the main difference between for and while loops are:\n",
        "      - For loop is used when we know the number of iterations before the execution of loop.\n",
        "      - While loop is usde when the number of iterations is not predefined and depends on some conditions that might changed during execution of code.\n",
        "\n",
        "**Q 14  Describe a scenario where a while loop is more suitable than a for loop?**\n",
        "  - The while loop is more suitable than for loop in condition where the number of lines is not predefined, in such condition we need while loop which read the code line by line until their are no more line to read or to match the conditions given by the operator\n",
        "  -   i = 1\n",
        "\n",
        "      while i < 6:\n",
        "\n",
        "        print(i)\n",
        "\n",
        "        i += 1\n",
        "        \n"
      ],
      "metadata": {
        "id": "xJDnaIk4Ezr4"
      }
    },
    {
      "cell_type": "markdown",
      "source": [
        "# **Practical Questions**\n"
      ],
      "metadata": {
        "id": "WUkKgggLfd9x"
      }
    },
    {
      "cell_type": "markdown",
      "source": [
        "**Q 1 Write a Python program to print \"Hello, World!?**"
      ],
      "metadata": {
        "id": "vG8GF-Emfmnu"
      }
    },
    {
      "cell_type": "code",
      "source": [
        "print(\"Hello, World!\")"
      ],
      "metadata": {
        "colab": {
          "base_uri": "https://localhost:8080/"
        },
        "id": "k-YM9GgQfzSc",
        "outputId": "7edfb51f-961f-4294-88d0-7a61b4f0ec56"
      },
      "execution_count": null,
      "outputs": [
        {
          "output_type": "stream",
          "name": "stdout",
          "text": [
            "Hello, World!\n"
          ]
        }
      ]
    },
    {
      "cell_type": "markdown",
      "source": [
        "**Q 2 Write a Python program that displays your name and age?**"
      ],
      "metadata": {
        "id": "1emq9VVNf4XC"
      }
    },
    {
      "cell_type": "code",
      "source": [
        "name=\"shubham verma\"\n",
        "age=21\n",
        "print(f' My name is:- {name}\\n My age is:- {age}')"
      ],
      "metadata": {
        "colab": {
          "base_uri": "https://localhost:8080/"
        },
        "id": "Q0n7WAHdgfhA",
        "outputId": "637a007f-3009-42cc-e44f-a99df6c4ba95"
      },
      "execution_count": null,
      "outputs": [
        {
          "output_type": "stream",
          "name": "stdout",
          "text": [
            " My name is:- shubham verma\n",
            " My age is:- 21\n"
          ]
        }
      ]
    },
    {
      "cell_type": "markdown",
      "source": [
        "**Q 3 Write code to print all the pre-defined keywords in Python using the keyword library?**"
      ],
      "metadata": {
        "id": "ByjtQubmgwqo"
      }
    },
    {
      "cell_type": "code",
      "source": [
        "import keyword\n",
        "\n",
        "keyword.kwlist"
      ],
      "metadata": {
        "colab": {
          "base_uri": "https://localhost:8080/"
        },
        "id": "_ZeAKh4Yg8tF",
        "outputId": "3b710b03-14d7-47d0-af1d-b442bd9aee71"
      },
      "execution_count": null,
      "outputs": [
        {
          "output_type": "execute_result",
          "data": {
            "text/plain": [
              "['False',\n",
              " 'None',\n",
              " 'True',\n",
              " 'and',\n",
              " 'as',\n",
              " 'assert',\n",
              " 'async',\n",
              " 'await',\n",
              " 'break',\n",
              " 'class',\n",
              " 'continue',\n",
              " 'def',\n",
              " 'del',\n",
              " 'elif',\n",
              " 'else',\n",
              " 'except',\n",
              " 'finally',\n",
              " 'for',\n",
              " 'from',\n",
              " 'global',\n",
              " 'if',\n",
              " 'import',\n",
              " 'in',\n",
              " 'is',\n",
              " 'lambda',\n",
              " 'nonlocal',\n",
              " 'not',\n",
              " 'or',\n",
              " 'pass',\n",
              " 'raise',\n",
              " 'return',\n",
              " 'try',\n",
              " 'while',\n",
              " 'with',\n",
              " 'yield']"
            ]
          },
          "metadata": {},
          "execution_count": 6
        }
      ]
    },
    {
      "cell_type": "markdown",
      "source": [
        "**Q 4 Write a program that checks if a given word is a Python keyword?**"
      ],
      "metadata": {
        "id": "Pz2kdrRQhB6x"
      }
    },
    {
      "cell_type": "code",
      "source": [
        "import keyword\n",
        "\n",
        "word = input(\"Enter a word: \")\n",
        "if keyword.iskeyword(word):\n",
        "  print(f\"{word} is a Python keyword.\")\n",
        "else:\n",
        "  print(f\"{word} is not a Python keyword.\")"
      ],
      "metadata": {
        "colab": {
          "base_uri": "https://localhost:8080/"
        },
        "id": "ITkjUu4ghX6k",
        "outputId": "c54cb2af-024b-437e-8312-c0e57a6e6c1c"
      },
      "execution_count": null,
      "outputs": [
        {
          "output_type": "stream",
          "name": "stdout",
          "text": [
            "Enter a word: ram\n",
            "ram is not a Python keyword.\n"
          ]
        }
      ]
    },
    {
      "cell_type": "markdown",
      "source": [
        "**Q 5  Create a list and tuple in Python, and demonstrate how attempting to change an element works differently\n",
        "for each?**"
      ],
      "metadata": {
        "id": "0-6pD_w-jBjL"
      }
    },
    {
      "cell_type": "code",
      "source": [
        "lst=[12,25,35.69,\"shub\"]\n",
        "lst[1]=205\n",
        "lst"
      ],
      "metadata": {
        "colab": {
          "base_uri": "https://localhost:8080/"
        },
        "id": "qbPmty0fho6O",
        "outputId": "bdb26295-5f82-4d8d-b4d0-c1c9f8eb7b66"
      },
      "execution_count": null,
      "outputs": [
        {
          "output_type": "execute_result",
          "data": {
            "text/plain": [
              "[12, 205, 35.69, 'shub']"
            ]
          },
          "metadata": {},
          "execution_count": 12
        }
      ]
    },
    {
      "cell_type": "code",
      "source": [
        "tup=(12,25,35.69,\"shub\")\n",
        "tup[1]=205\n",
        "tup"
      ],
      "metadata": {
        "colab": {
          "base_uri": "https://localhost:8080/",
          "height": 176
        },
        "id": "C5CiAam-jkKB",
        "outputId": "b94be5e8-f2d8-462e-c35c-9e07352384ca"
      },
      "execution_count": null,
      "outputs": [
        {
          "output_type": "error",
          "ename": "TypeError",
          "evalue": "'tuple' object does not support item assignment",
          "traceback": [
            "\u001b[0;31m---------------------------------------------------------------------------\u001b[0m",
            "\u001b[0;31mTypeError\u001b[0m                                 Traceback (most recent call last)",
            "\u001b[0;32m<ipython-input-16-a9b0b623f77b>\u001b[0m in \u001b[0;36m<cell line: 0>\u001b[0;34m()\u001b[0m\n\u001b[1;32m      1\u001b[0m \u001b[0mtup\u001b[0m\u001b[0;34m=\u001b[0m\u001b[0;34m(\u001b[0m\u001b[0;36m12\u001b[0m\u001b[0;34m,\u001b[0m\u001b[0;36m25\u001b[0m\u001b[0;34m,\u001b[0m\u001b[0;36m35.69\u001b[0m\u001b[0;34m,\u001b[0m\u001b[0;34m\"shub\"\u001b[0m\u001b[0;34m)\u001b[0m\u001b[0;34m\u001b[0m\u001b[0;34m\u001b[0m\u001b[0m\n\u001b[0;32m----> 2\u001b[0;31m \u001b[0mtup\u001b[0m\u001b[0;34m[\u001b[0m\u001b[0;36m1\u001b[0m\u001b[0;34m]\u001b[0m\u001b[0;34m=\u001b[0m\u001b[0;36m205\u001b[0m\u001b[0;34m\u001b[0m\u001b[0;34m\u001b[0m\u001b[0m\n\u001b[0m\u001b[1;32m      3\u001b[0m \u001b[0mtup\u001b[0m\u001b[0;34m\u001b[0m\u001b[0;34m\u001b[0m\u001b[0m\n",
            "\u001b[0;31mTypeError\u001b[0m: 'tuple' object does not support item assignment"
          ]
        }
      ]
    },
    {
      "cell_type": "markdown",
      "source": [
        "**Q 6 Write a function to demonstrate the behavior of mutable and immutable arguments?**"
      ],
      "metadata": {
        "id": "SrOsPYRKkGo-"
      }
    },
    {
      "cell_type": "code",
      "source": [
        "# function to modify elements of a list by their index\n",
        "lst=[1,2,3,4,5]\n",
        "def mutable_function_to_modify_list(ls, index, value):\n",
        "   ls[index] = value\n",
        "\n",
        "mutable_function_to_modify_list(lst, 1, 205)\n",
        "lst\n",
        "\n"
      ],
      "metadata": {
        "colab": {
          "base_uri": "https://localhost:8080/"
        },
        "id": "KRH3vwwgnDk8",
        "outputId": "d43d0cb6-a9ec-4c29-e166-7dbaf3795999"
      },
      "execution_count": 6,
      "outputs": [
        {
          "output_type": "execute_result",
          "data": {
            "text/plain": [
              "[1, 205, 3, 4, 5]"
            ]
          },
          "metadata": {},
          "execution_count": 6
        }
      ]
    },
    {
      "cell_type": "code",
      "source": [
        "tup=(1,2,3,6)\n",
        "def immutable_function_to_modify_tuple(tup,index,value):\n",
        "   tup.index = value\n",
        "\n",
        "immutable_function_to_modify_tuple(tup,2,206)\n",
        "tup"
      ],
      "metadata": {
        "colab": {
          "base_uri": "https://localhost:8080/",
          "height": 315
        },
        "id": "ZRF62ZtUqbCb",
        "outputId": "3a57ee68-03ab-4ec9-d235-1f2786590068"
      },
      "execution_count": 8,
      "outputs": [
        {
          "output_type": "error",
          "ename": "AttributeError",
          "evalue": "'tuple' object attribute 'index' is read-only",
          "traceback": [
            "\u001b[0;31m---------------------------------------------------------------------------\u001b[0m",
            "\u001b[0;31mAttributeError\u001b[0m                            Traceback (most recent call last)",
            "\u001b[0;32m<ipython-input-8-74d9b197306d>\u001b[0m in \u001b[0;36m<cell line: 0>\u001b[0;34m()\u001b[0m\n\u001b[1;32m      3\u001b[0m    \u001b[0mtup\u001b[0m\u001b[0;34m.\u001b[0m\u001b[0mindex\u001b[0m \u001b[0;34m=\u001b[0m \u001b[0mvalue\u001b[0m\u001b[0;34m\u001b[0m\u001b[0;34m\u001b[0m\u001b[0m\n\u001b[1;32m      4\u001b[0m \u001b[0;34m\u001b[0m\u001b[0m\n\u001b[0;32m----> 5\u001b[0;31m \u001b[0mimmutable_function_to_modify_tuple\u001b[0m\u001b[0;34m(\u001b[0m\u001b[0mtup\u001b[0m\u001b[0;34m,\u001b[0m\u001b[0;36m2\u001b[0m\u001b[0;34m,\u001b[0m\u001b[0;36m206\u001b[0m\u001b[0;34m)\u001b[0m\u001b[0;34m\u001b[0m\u001b[0;34m\u001b[0m\u001b[0m\n\u001b[0m\u001b[1;32m      6\u001b[0m \u001b[0mtup\u001b[0m\u001b[0;34m\u001b[0m\u001b[0;34m\u001b[0m\u001b[0m\n",
            "\u001b[0;32m<ipython-input-8-74d9b197306d>\u001b[0m in \u001b[0;36mimmutable_function_to_modify_tuple\u001b[0;34m(tup, index, value)\u001b[0m\n\u001b[1;32m      1\u001b[0m \u001b[0mtup\u001b[0m\u001b[0;34m=\u001b[0m\u001b[0;34m(\u001b[0m\u001b[0;36m1\u001b[0m\u001b[0;34m,\u001b[0m\u001b[0;36m2\u001b[0m\u001b[0;34m,\u001b[0m\u001b[0;36m3\u001b[0m\u001b[0;34m,\u001b[0m\u001b[0;36m6\u001b[0m\u001b[0;34m)\u001b[0m\u001b[0;34m\u001b[0m\u001b[0;34m\u001b[0m\u001b[0m\n\u001b[1;32m      2\u001b[0m \u001b[0;32mdef\u001b[0m \u001b[0mimmutable_function_to_modify_tuple\u001b[0m\u001b[0;34m(\u001b[0m\u001b[0mtup\u001b[0m\u001b[0;34m,\u001b[0m\u001b[0mindex\u001b[0m\u001b[0;34m,\u001b[0m\u001b[0mvalue\u001b[0m\u001b[0;34m)\u001b[0m\u001b[0;34m:\u001b[0m\u001b[0;34m\u001b[0m\u001b[0;34m\u001b[0m\u001b[0m\n\u001b[0;32m----> 3\u001b[0;31m    \u001b[0mtup\u001b[0m\u001b[0;34m.\u001b[0m\u001b[0mindex\u001b[0m \u001b[0;34m=\u001b[0m \u001b[0mvalue\u001b[0m\u001b[0;34m\u001b[0m\u001b[0;34m\u001b[0m\u001b[0m\n\u001b[0m\u001b[1;32m      4\u001b[0m \u001b[0;34m\u001b[0m\u001b[0m\n\u001b[1;32m      5\u001b[0m \u001b[0mimmutable_function_to_modify_tuple\u001b[0m\u001b[0;34m(\u001b[0m\u001b[0mtup\u001b[0m\u001b[0;34m,\u001b[0m\u001b[0;36m2\u001b[0m\u001b[0;34m,\u001b[0m\u001b[0;36m206\u001b[0m\u001b[0;34m)\u001b[0m\u001b[0;34m\u001b[0m\u001b[0;34m\u001b[0m\u001b[0m\n",
            "\u001b[0;31mAttributeError\u001b[0m: 'tuple' object attribute 'index' is read-only"
          ]
        }
      ]
    },
    {
      "cell_type": "markdown",
      "source": [
        "**Q 7  Write a program that performs basic arithmetic operations on two user-input numbers?**"
      ],
      "metadata": {
        "id": "j5KbQGGJsG4j"
      }
    },
    {
      "cell_type": "code",
      "source": [
        "number_1=int(input(\"Enter first number:-\"))\n",
        "number_2=int(input(\"Enter second number:-\"))\n",
        "add=number_1+number_2\n",
        "print(f\"the addition of number's are:- {add}\")"
      ],
      "metadata": {
        "colab": {
          "base_uri": "https://localhost:8080/"
        },
        "id": "pUjTrB52r2Yt",
        "outputId": "4b521182-7b3f-4d68-f079-1a1a3e339689"
      },
      "execution_count": 17,
      "outputs": [
        {
          "output_type": "stream",
          "name": "stdout",
          "text": [
            "Enter first number:-28\n",
            "Enter second number:-14\n",
            "the addition of number's are:- 42\n"
          ]
        }
      ]
    },
    {
      "cell_type": "code",
      "source": [
        "mul=number_1*number_2\n",
        "print(f\"the multiplication of number's are:- {mul}\")"
      ],
      "metadata": {
        "colab": {
          "base_uri": "https://localhost:8080/"
        },
        "id": "zF85YmlLslDd",
        "outputId": "0358d3db-1305-4ee9-bf1c-0f3451604a10"
      },
      "execution_count": 18,
      "outputs": [
        {
          "output_type": "stream",
          "name": "stdout",
          "text": [
            "the multiplication of number's are:- 392\n"
          ]
        }
      ]
    },
    {
      "cell_type": "code",
      "source": [
        "div=number_1/number_2\n",
        "print(f\"the division of number's are:- {div}\")"
      ],
      "metadata": {
        "colab": {
          "base_uri": "https://localhost:8080/"
        },
        "id": "elk40gQ_snuL",
        "outputId": "d32bec5d-0589-4d48-9ec8-1e0e44c90d5f"
      },
      "execution_count": 19,
      "outputs": [
        {
          "output_type": "stream",
          "name": "stdout",
          "text": [
            "the division of number's are:- 2.0\n"
          ]
        }
      ]
    },
    {
      "cell_type": "code",
      "source": [
        "sub=number_1-number_2\n",
        "print(f\"the substraction of number's are:- {sub}\")"
      ],
      "metadata": {
        "colab": {
          "base_uri": "https://localhost:8080/"
        },
        "id": "TswUuorSsjWs",
        "outputId": "c326cdfb-cd5a-4c7d-d4dc-67be548c91b5"
      },
      "execution_count": 20,
      "outputs": [
        {
          "output_type": "stream",
          "name": "stdout",
          "text": [
            "the substraction of number's are:- 14\n"
          ]
        }
      ]
    },
    {
      "cell_type": "markdown",
      "source": [
        "**Q 8 Write a program to demonstrate the use of logical operators?**"
      ],
      "metadata": {
        "id": "le0WBEH-tXBy"
      }
    },
    {
      "cell_type": "code",
      "source": [
        "# if number entered is divisible by 3 and 5 both, usig \"and\" operator\n",
        "number=int(input(\"enter number to check :- \"))\n",
        "result1= number%3==0 and number%5==0\n",
        "print(result1)\n"
      ],
      "metadata": {
        "colab": {
          "base_uri": "https://localhost:8080/"
        },
        "id": "tq_uig8SuAYY",
        "outputId": "224a8545-3530-4021-d02d-3f1003d5bdfd"
      },
      "execution_count": 26,
      "outputs": [
        {
          "output_type": "stream",
          "name": "stdout",
          "text": [
            "enter number to check :- 9\n",
            "False\n"
          ]
        }
      ]
    },
    {
      "cell_type": "code",
      "source": [
        "# if number entered is divisible by 3 or 5, using \"or\" operator\n",
        "result2=number%3==0 or number%5==0\n",
        "print(result2)"
      ],
      "metadata": {
        "colab": {
          "base_uri": "https://localhost:8080/"
        },
        "id": "SyvvgJWJukr-",
        "outputId": "ad9f4357-e31d-405e-c453-3e41438f302b"
      },
      "execution_count": 24,
      "outputs": [
        {
          "output_type": "stream",
          "name": "stdout",
          "text": [
            "True\n"
          ]
        }
      ]
    },
    {
      "cell_type": "code",
      "source": [
        "# if number entered is not divisible by 3, using \"not\" operator\n",
        "result3= not number%3==0\n",
        "print(result3)"
      ],
      "metadata": {
        "colab": {
          "base_uri": "https://localhost:8080/"
        },
        "id": "Jn6QadhcwPkZ",
        "outputId": "81cf70de-bc45-4918-8e43-ed2e63d38d1e"
      },
      "execution_count": 27,
      "outputs": [
        {
          "output_type": "stream",
          "name": "stdout",
          "text": [
            "False\n"
          ]
        }
      ]
    },
    {
      "cell_type": "markdown",
      "source": [
        "**Q 9 Write a Python program to convert user input from string to integer, float, and boolean types?**"
      ],
      "metadata": {
        "id": "PmsSU8wIvg1H"
      }
    },
    {
      "cell_type": "code",
      "source": [
        "data=input(\"enter data to convert :- \")\n",
        "print(f'data as string:- {data}', type(data))\n",
        "data1=int(data)\n",
        "print(f'data as integer:- {data1}', type(data1))\n",
        "data2=float(data)\n",
        "print(f'data as float:- {data2}', type(data2))\n",
        "data3=bool(data)\n",
        "print(f'data as bool:- {data3}', type(data3))"
      ],
      "metadata": {
        "colab": {
          "base_uri": "https://localhost:8080/"
        },
        "id": "LojhsDCMvNQi",
        "outputId": "e6c47971-3547-451b-dfb2-48c90ff79739"
      },
      "execution_count": 38,
      "outputs": [
        {
          "output_type": "stream",
          "name": "stdout",
          "text": [
            "enter data to convert :- 1236\n",
            "data as string:- 1236 <class 'str'>\n",
            "data as integer:- 1236 <class 'int'>\n",
            "data as float:- 1236.0 <class 'float'>\n",
            "data as bool:- True <class 'bool'>\n"
          ]
        }
      ]
    },
    {
      "cell_type": "markdown",
      "source": [
        "**Q 10 Write code to demonstrate type casting with list elements?**"
      ],
      "metadata": {
        "id": "A9kUUMjDzCd2"
      }
    },
    {
      "cell_type": "code",
      "source": [
        "lst=[12,\"123\",12.6]\n",
        "lst1=[]\n",
        "for i in lst:\n",
        "  if type(i)==str:\n",
        "    lst1.append(int(i))\n",
        "  elif type(i)==float:\n",
        "    lst1.append(int(i))\n",
        "  else:\n",
        "    lst1.append(str(i))\n",
        "print(lst1)"
      ],
      "metadata": {
        "colab": {
          "base_uri": "https://localhost:8080/"
        },
        "id": "CdEScSkAxSUV",
        "outputId": "0a494108-d11a-40f3-e3c3-086260d395a8"
      },
      "execution_count": 57,
      "outputs": [
        {
          "output_type": "stream",
          "name": "stdout",
          "text": [
            "['12', 123, 12]\n"
          ]
        }
      ]
    },
    {
      "cell_type": "markdown",
      "source": [
        "**Q 11 Write a program that checks if a number is positive, negative, or zero?**"
      ],
      "metadata": {
        "id": "pVAE9io34NN0"
      }
    },
    {
      "cell_type": "code",
      "source": [
        "num=int(input(\"enter number to check :- \"))\n",
        "if num > 0:\n",
        "  print(f'number is positive:- {num}')\n",
        "elif num==0:\n",
        "  print(f'number is zero:- {num}')\n",
        "else:\n",
        "  print(f'number is negative:- {num}')"
      ],
      "metadata": {
        "colab": {
          "base_uri": "https://localhost:8080/"
        },
        "id": "AVFAQRrR0URR",
        "outputId": "e243e63e-e5b1-439f-cd26-115904ba80bd"
      },
      "execution_count": 61,
      "outputs": [
        {
          "output_type": "stream",
          "name": "stdout",
          "text": [
            "enter number to check :- -123\n",
            "number is negative:- -123\n"
          ]
        }
      ]
    },
    {
      "cell_type": "markdown",
      "source": [
        "**Q 12 Write a for loop to print numbers from 1 to 10?**"
      ],
      "metadata": {
        "id": "_fOvRvxU432P"
      }
    },
    {
      "cell_type": "code",
      "source": [
        "for i in range(1,11):\n",
        "  print(i)"
      ],
      "metadata": {
        "colab": {
          "base_uri": "https://localhost:8080/"
        },
        "id": "LRAwZ-f-4vn9",
        "outputId": "17385270-81db-4bb4-9e30-52fb32f5730d"
      },
      "execution_count": 63,
      "outputs": [
        {
          "output_type": "stream",
          "name": "stdout",
          "text": [
            "1\n",
            "2\n",
            "3\n",
            "4\n",
            "5\n",
            "6\n",
            "7\n",
            "8\n",
            "9\n",
            "10\n"
          ]
        }
      ]
    },
    {
      "cell_type": "markdown",
      "source": [
        "**Q 13  Write a Python program to find the sum of all even numbers between 1 and 50?**"
      ],
      "metadata": {
        "id": "NQaR2WhN5L6m"
      }
    },
    {
      "cell_type": "code",
      "source": [
        "lst=[]\n",
        "for i in range(1,51):\n",
        "  if i%2==0:\n",
        "    lst.append(i)\n",
        "print(lst)\n",
        "from functools import reduce\n",
        "sum=reduce(lambda x,y:x+y,lst)\n",
        "print(f'the sum of all even numbers between 1 and 50 is:- {sum}')"
      ],
      "metadata": {
        "colab": {
          "base_uri": "https://localhost:8080/"
        },
        "id": "yoqRf5eW5Kyw",
        "outputId": "41fb183b-5350-4043-9538-a44fb5bcf16c"
      },
      "execution_count": 71,
      "outputs": [
        {
          "output_type": "stream",
          "name": "stdout",
          "text": [
            "[2, 4, 6, 8, 10, 12, 14, 16, 18, 20, 22, 24, 26, 28, 30, 32, 34, 36, 38, 40, 42, 44, 46, 48, 50]\n",
            "the sum of all even numbers between 1 and 50 is:- 650\n"
          ]
        }
      ]
    },
    {
      "cell_type": "markdown",
      "source": [
        "**Q 14 Write a program to reverse a string using a while loop?**\n"
      ],
      "metadata": {
        "id": "nuUPpWRT7HoN"
      }
    },
    {
      "cell_type": "code",
      "source": [
        "name=\"jone\"\n",
        "i = len(name) - 1\n",
        "\n",
        "while i >= 0:\n",
        "    print(name[i], end = '')\n",
        "    i = i - 1"
      ],
      "metadata": {
        "colab": {
          "base_uri": "https://localhost:8080/"
        },
        "id": "62q8LrU96Fun",
        "outputId": "cc24568d-8b16-4a33-fa53-c9f582031d32"
      },
      "execution_count": 73,
      "outputs": [
        {
          "output_type": "stream",
          "name": "stdout",
          "text": [
            "enoj"
          ]
        }
      ]
    },
    {
      "cell_type": "markdown",
      "source": [
        "**Q 15 Write a Python program to calculate the factorial of a number provided by the user using a while loop?**"
      ],
      "metadata": {
        "id": "HMJoKxBa8MlL"
      }
    },
    {
      "cell_type": "code",
      "source": [
        "nu=int(input(\"enter number to find factorial :- \"))\n",
        "i=1\n",
        "fact=1\n",
        "while i<=nu:\n",
        "  fact=fact*i\n",
        "  i=i+1\n",
        "print(f'factorial of {nu} is:- {fact}')\n"
      ],
      "metadata": {
        "colab": {
          "base_uri": "https://localhost:8080/"
        },
        "id": "N5E9IJhW8Jad",
        "outputId": "3e39a271-502f-4d3d-ca55-8759d2321324"
      },
      "execution_count": 74,
      "outputs": [
        {
          "output_type": "stream",
          "name": "stdout",
          "text": [
            "enter number to find factorial :- 5\n",
            "factorial of 5 is:- 120\n"
          ]
        }
      ]
    }
  ]
}